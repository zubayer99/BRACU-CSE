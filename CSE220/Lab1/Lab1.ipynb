{
 "cells": [
  {
   "cell_type": "code",
   "execution_count": 4,
   "id": "2d5b673e",
   "metadata": {},
   "outputs": [
    {
     "name": "stdout",
     "output_type": "stream",
     "text": [
      "[20, 30, 40, 40, 50, 60]\n"
     ]
    }
   ],
   "source": [
    "#Task1\n",
    "def shiftLeft(source, k):\n",
    "    for i in range(0,k):\n",
    "        temp=source[0]\n",
    "        source[i]=source[i+1]\n",
    "\n",
    "                \n",
    "source=[10,20,30,40,50,60]\n",
    "shiftLeft(source,3)\n",
    "print(source)\n",
    "\n",
    "\n",
    "Unfinished"
   ]
  },
  {
   "cell_type": "code",
   "execution_count": 5,
   "id": "cd382167",
   "metadata": {},
   "outputs": [
    {
     "name": "stdout",
     "output_type": "stream",
     "text": [
      "[40, 50, 60, 10, 20, 30]\n"
     ]
    }
   ],
   "source": [
    "#Task2\n",
    "def rotateLeft(source, k):\n",
    "    for i in range(0, k):\n",
    "        temp = source[0]\n",
    "        for j in range(0, len(source)-1):\n",
    "            source[j] = source[j+1]\n",
    "        source[len(source)-1] = temp\n",
    "    \n",
    "\n",
    "\n",
    "source=[10,20,30,40,50,60]\n",
    "rotateLeft(source,3)\n",
    "print(source)"
   ]
  },
  {
   "cell_type": "code",
   "execution_count": null,
   "id": "1913fe9c",
   "metadata": {},
   "outputs": [],
   "source": [
    "#Task3\n",
    "def shiftRight(source, k):\n",
    "    \n",
    "source=[10,20,30,40,50,60]\n",
    "shiftRight(source,3)\n",
    "print(source)\n"
   ]
  }
 ],
 "metadata": {
  "kernelspec": {
   "display_name": "Python 3 (ipykernel)",
   "language": "python",
   "name": "python3"
  },
  "language_info": {
   "codemirror_mode": {
    "name": "ipython",
    "version": 3
   },
   "file_extension": ".py",
   "mimetype": "text/x-python",
   "name": "python",
   "nbconvert_exporter": "python",
   "pygments_lexer": "ipython3",
   "version": "3.9.7"
  }
 },
 "nbformat": 4,
 "nbformat_minor": 5
}
