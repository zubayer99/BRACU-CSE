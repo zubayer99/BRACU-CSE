{
 "cells": [
  {
   "cell_type": "code",
   "execution_count": 4,
   "id": "2d5b673e",
   "metadata": {},
   "outputs": [
    {
     "name": "stdout",
     "output_type": "stream",
     "text": [
      "[20, 30, 40, 40, 50, 60]\n"
     ]
    }
   ],
   "source": [
    "#Task1\n",
    "def shiftLeft(source, k):\n",
    "    for i in range(0,k):\n",
    "        temp=source[0]\n",
    "        source[i]=source[i+1]\n",
    "\n",
    "                \n",
    "source=[10,20,30,40,50,60]\n",
    "shiftLeft(source,3)\n",
    "print(source)\n",
    "\n",
    "\n",
    "Unfinished"
   ]
  },
  {
   "cell_type": "code",
   "execution_count": 5,
   "id": "d2a8e6c8",
   "metadata": {},
   "outputs": [
    {
     "name": "stdout",
     "output_type": "stream",
     "text": [
      "[40, 50, 60, 10, 20, 30]\n"
     ]
    }
   ],
   "source": [
    "#Task2\n",
    "def rotateLeft(source, k):\n",
    "    for i in range(0, k):\n",
    "        temp = source[0]\n",
    "        for j in range(0, len(source)-1):\n",
    "            source[j] = source[j+1]\n",
    "        source[len(source)-1] = temp\n",
    "    \n",
    "\n",
    "\n",
    "source=[10,20,30,40,50,60]\n",
    "rotateLeft(source,3)\n",
    "print(source)"
   ]
  },
  {
   "cell_type": "code",
   "execution_count": null,
   "id": "0ccb05e6",
   "metadata": {},
   "outputs": [],
   "source": [
    "#Task3\n",
    "def shiftRight(source, k):\n",
    "    \n",
    "source=[10,20,30,40,50,60]\n",
    "shiftRight(source,3)\n",
    "print(source)\n"
   ]
  },
  {
   "cell_type": "code",
   "execution_count": 1,
   "id": "1d743233",
   "metadata": {},
   "outputs": [
    {
     "ename": "IndentationError",
     "evalue": "expected an indented block (Temp/ipykernel_25372/3155092355.py, line 7)",
     "output_type": "error",
     "traceback": [
      "\u001b[1;36m  File \u001b[1;32m\"C:\\Users\\xyzub\\AppData\\Local\\Temp/ipykernel_25372/3155092355.py\"\u001b[1;36m, line \u001b[1;32m7\u001b[0m\n\u001b[1;33m    source=[10,20,30,40,50,60]\u001b[0m\n\u001b[1;37m    ^\u001b[0m\n\u001b[1;31mIndentationError\u001b[0m\u001b[1;31m:\u001b[0m expected an indented block\n"
     ]
    }
   ],
   "source": [
    "#Task4\n",
    "def rotateRight(source, k):\n",
    "    \n",
    "\n",
    "\n",
    "\n",
    "source=[10,20,30,40,50,60]\n",
    "rotateRight(source,3)\n"
   ]
  },
  {
   "cell_type": "code",
   "execution_count": null,
   "id": "ece27848",
   "metadata": {},
   "outputs": [],
   "source": []
  }
 ],
 "metadata": {
  "kernelspec": {
   "display_name": "Python 3 (ipykernel)",
   "language": "python",
   "name": "python3"
  },
  "language_info": {
   "codemirror_mode": {
    "name": "ipython",
    "version": 3
   },
   "file_extension": ".py",
   "mimetype": "text/x-python",
   "name": "python",
   "nbconvert_exporter": "python",
   "pygments_lexer": "ipython3",
   "version": "3.9.7"
  }
 },
 "nbformat": 4,
 "nbformat_minor": 5
}
