{
 "cells": [
  {
   "cell_type": "code",
   "execution_count": null,
   "id": "18137639",
   "metadata": {},
   "outputs": [],
   "source": [
    "#Task1\n",
    "\n",
    "\n",
    "\n",
    "\n",
    "\n",
    "source=[10,20,30,40,50,60]\n",
    "shiftLeft(source,3)"
   ]
  }
 ],
 "metadata": {
  "kernelspec": {
   "display_name": "Python 3 (ipykernel)",
   "language": "python",
   "name": "python3"
  },
  "language_info": {
   "codemirror_mode": {
    "name": "ipython",
    "version": 3
   },
   "file_extension": ".py",
   "mimetype": "text/x-python",
   "name": "python",
   "nbconvert_exporter": "python",
   "pygments_lexer": "ipython3",
   "version": "3.9.7"
  }
 },
 "nbformat": 4,
 "nbformat_minor": 5
}
